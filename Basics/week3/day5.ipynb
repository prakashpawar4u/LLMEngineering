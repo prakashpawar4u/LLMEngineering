{
 "cells": [
  {
   "cell_type": "markdown",
   "id": "61f56afc-bc15-46a4-8eb1-d940c332cf52",
   "metadata": {},
   "source": [
    "# Meeting minutes creator\n",
    "\n",
    "In this colab, we make a meeting minutes program.\n",
    "\n",
    "It includes useful code to connect your Google Drive to your colab.\n",
    "\n",
    "Upload your own audio to make this work!!\n",
    "\n",
    "https://colab.research.google.com/drive/1KSMxOCprsl1QRpt_Rq0UqCAyMtPqDQYx?usp=sharing\n",
    "\n",
    "This should run nicely on a low-cost or free T4 box."
   ]
  },
  {
   "cell_type": "code",
   "execution_count": null,
   "id": "e9289ba7-200c-43a9-b67a-c5ce826c9537",
   "metadata": {},
   "outputs": [
    {
     "name": "stdout",
     "output_type": "stream",
     "text": [
      "Task Progress:\n",
      "1 2 3 4 5 6 7 8 9 10 \n",
      "# 10% completed\n",
      "1 2 3 4 5 6 7 8 9 10 \n",
      "## 20% completed\n",
      "1 2 3 4 5 6 7 8 9 10 \n",
      "### 30% completed\n",
      "1 2 3 4 5 6 7 8 9 10 \n",
      "#### 40% completed\n",
      "1 2 3 4 5 6 7 8 9 10 \n",
      "##### 50% completed\n",
      "1 2 3 4 5 6 7 8 9 10 \n",
      "###### 60% completed\n",
      "1 2 3 4 5 6 7 8 9 10 \n",
      "####### 70% completed\n",
      "1 2 3 4 5 6 7 8 9 10 \n",
      "######## 80% completed\n",
      "1 2 3 4 5 6 7 8 9 10 \n",
      "######### 90% completed\n",
      "1 2 3 4 5 6 7 8 9 10 \n",
      "########## 100% completed\n"
     ]
    }
   ],
   "source": [
    "import time\n",
    "\n",
    "def task_progress(total_steps=100, delay=0.2):\n",
    "    print(\"Task Progress:\")\n",
    "    for i in range(1, total_steps + 1):\n",
    "        # Print numbers 1..10 inside each 10% block\n",
    "        print(i % 10 if i % 10 != 0 else 10, end=\" \", flush=True)\n",
    "        \n",
    "        # When 10 numbers are completed, print a # and percentage\n",
    "        if i % 10 == 0:\n",
    "            completed_blocks = i // 10\n",
    "            print(f\"\\n{'#' * completed_blocks} {completed_blocks * 10}% completed\")\n",
    "        \n",
    "        # Simulate time delay (remove if not needed)\n",
    "        time.sleep(delay)\n",
    "\n",
    "if __name__ == \"__main__\":\n",
    "    task_progress()\n"
   ]
  },
  {
   "cell_type": "code",
   "execution_count": null,
   "id": "a65cda6b",
   "metadata": {},
   "outputs": [
    {
     "name": "stdout",
     "output_type": "stream",
     "text": [
      "s'teL ekat edoCteeL tsetnoc\n"
     ]
    }
   ],
   "source": [
    "class Solution:\n",
    "    def reverseWords(self, s: str) -> str:\n",
    "\n",
    "        return \" \".join([x[::-1] for x in s.split()])\n",
    "\n",
    "sol = Solution()\n",
    "\n",
    "print(sol.reverseWords(\"Let's take LeetCode contest\"))\n",
    "# Output: \"s'teL ekat edoCteeL tsetnoc\""
   ]
  },
  {
   "cell_type": "code",
   "execution_count": 12,
   "id": "7850294f",
   "metadata": {},
   "outputs": [
    {
     "data": {
      "text/plain": [
       "'eHllo'"
      ]
     },
     "execution_count": 12,
     "metadata": {},
     "output_type": "execute_result"
    }
   ],
   "source": [
    "s = \"Hello\"\n",
    "s[:2][::-1]+ s[2:]"
   ]
  },
  {
   "cell_type": "code",
   "execution_count": 22,
   "id": "492627c4",
   "metadata": {},
   "outputs": [
    {
     "name": "stdout",
     "output_type": "stream",
     "text": [
      "0 2\n",
      "4 6\n",
      "['0', '0', '0', '0', '0', '0', '0', '0']\n"
     ]
    }
   ],
   "source": [
    "# s = \"abcdefghi\"\n",
    "s = \"00000000\"\n",
    "s = list(s)\n",
    "k = 2\n",
    "for i in range(0, len(s), 2 * k):\n",
    "    print(i, i+k)\n",
    "    \n",
    "    s[i:i+k] = reversed(s[i:i+k])\n",
    "print(s)"
   ]
  },
  {
   "cell_type": "code",
   "execution_count": 30,
   "id": "08321fc6",
   "metadata": {},
   "outputs": [
    {
     "data": {
      "text/plain": [
       "[1, 0, 0, 4, 0, 0, 0, 0, 0, 0]"
      ]
     },
     "execution_count": 30,
     "metadata": {},
     "output_type": "execute_result"
    }
   ],
   "source": [
    "n = 10\n",
    "l = [1,0,0,4]\n",
    "l2 = [0] * (n - len(l))\n",
    "l = l + l2\n",
    "l"
   ]
  },
  {
   "cell_type": "code",
   "execution_count": 32,
   "id": "4bdc495f",
   "metadata": {},
   "outputs": [
    {
     "data": {
      "text/plain": [
       "[1, 3, 12, 0, 0]"
      ]
     },
     "execution_count": 32,
     "metadata": {},
     "output_type": "execute_result"
    }
   ],
   "source": [
    "nums = [0,1,0,3,12]\n",
    "num2 = []\n",
    "n = len(nums)\n",
    "\n",
    "for i in range(n):\n",
    "    if nums[i] != 0:\n",
    "        num2.append(nums[i])\n",
    "nums = num2 + [0] * (n - len(num2))\n",
    "nums "
   ]
  },
  {
   "cell_type": "code",
   "execution_count": 34,
   "id": "0556eb00",
   "metadata": {},
   "outputs": [
    {
     "name": "stdout",
     "output_type": "stream",
     "text": [
      "[1, 1, 2, 3]\n"
     ]
    }
   ],
   "source": [
    "# find k closest elements\n",
    "arr = [1,1,2,3,4,5]\n",
    "k = 4\n",
    "x = -1\n",
    "\n",
    "left = 0\n",
    "right = len(arr)-1\n",
    "\n",
    "while right - left + 1 > k:\n",
    "    if arr[left] -x > arr[right] -x:\n",
    "        left +=1\n",
    "    else:\n",
    "        right -=1\n",
    "print(arr[left:right+1])"
   ]
  },
  {
   "cell_type": "code",
   "execution_count": null,
   "id": "6529e01e",
   "metadata": {},
   "outputs": [],
   "source": []
  },
  {
   "cell_type": "markdown",
   "id": "9cc8fe98",
   "metadata": {},
   "source": []
  }
 ],
 "metadata": {
  "kernelspec": {
   "display_name": "llm_env",
   "language": "python",
   "name": "python3"
  },
  "language_info": {
   "codemirror_mode": {
    "name": "ipython",
    "version": 3
   },
   "file_extension": ".py",
   "mimetype": "text/x-python",
   "name": "python",
   "nbconvert_exporter": "python",
   "pygments_lexer": "ipython3",
   "version": "3.11.13"
  }
 },
 "nbformat": 4,
 "nbformat_minor": 5
}
